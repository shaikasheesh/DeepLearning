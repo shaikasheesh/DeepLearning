{
 "cells": [
  {
   "cell_type": "code",
   "execution_count": 1,
   "id": "dbc32a5e",
   "metadata": {},
   "outputs": [],
   "source": [
    "#import all the relevant libraries\n",
    "import pandas as pd\n",
    "import tensorflow as tf\n",
    "import keras \n",
    "from keras import layers\n",
    "from keras.layers import Dense\n",
    "import keras_tuner"
   ]
  },
  {
   "cell_type": "code",
   "execution_count": 2,
   "id": "c0b51038",
   "metadata": {},
   "outputs": [],
   "source": [
    "#reading the data from csv file\n",
    "df = pd.read_csv('Real_Combine.csv')"
   ]
  },
  {
   "cell_type": "code",
   "execution_count": 3,
   "id": "19548851",
   "metadata": {},
   "outputs": [
    {
     "data": {
      "text/html": [
       "<div>\n",
       "<style scoped>\n",
       "    .dataframe tbody tr th:only-of-type {\n",
       "        vertical-align: middle;\n",
       "    }\n",
       "\n",
       "    .dataframe tbody tr th {\n",
       "        vertical-align: top;\n",
       "    }\n",
       "\n",
       "    .dataframe thead th {\n",
       "        text-align: right;\n",
       "    }\n",
       "</style>\n",
       "<table border=\"1\" class=\"dataframe\">\n",
       "  <thead>\n",
       "    <tr style=\"text-align: right;\">\n",
       "      <th></th>\n",
       "      <th>T</th>\n",
       "      <th>TM</th>\n",
       "      <th>Tm</th>\n",
       "      <th>SLP</th>\n",
       "      <th>H</th>\n",
       "      <th>VV</th>\n",
       "      <th>V</th>\n",
       "      <th>VM</th>\n",
       "      <th>PM 2.5</th>\n",
       "    </tr>\n",
       "  </thead>\n",
       "  <tbody>\n",
       "    <tr>\n",
       "      <th>0</th>\n",
       "      <td>7.4</td>\n",
       "      <td>9.8</td>\n",
       "      <td>4.8</td>\n",
       "      <td>1017.6</td>\n",
       "      <td>93.0</td>\n",
       "      <td>0.5</td>\n",
       "      <td>4.3</td>\n",
       "      <td>9.4</td>\n",
       "      <td>219.720833</td>\n",
       "    </tr>\n",
       "    <tr>\n",
       "      <th>1</th>\n",
       "      <td>7.8</td>\n",
       "      <td>12.7</td>\n",
       "      <td>4.4</td>\n",
       "      <td>1018.5</td>\n",
       "      <td>87.0</td>\n",
       "      <td>0.6</td>\n",
       "      <td>4.4</td>\n",
       "      <td>11.1</td>\n",
       "      <td>182.187500</td>\n",
       "    </tr>\n",
       "    <tr>\n",
       "      <th>2</th>\n",
       "      <td>6.7</td>\n",
       "      <td>13.4</td>\n",
       "      <td>2.4</td>\n",
       "      <td>1019.4</td>\n",
       "      <td>82.0</td>\n",
       "      <td>0.6</td>\n",
       "      <td>4.8</td>\n",
       "      <td>11.1</td>\n",
       "      <td>154.037500</td>\n",
       "    </tr>\n",
       "    <tr>\n",
       "      <th>3</th>\n",
       "      <td>8.6</td>\n",
       "      <td>15.5</td>\n",
       "      <td>3.3</td>\n",
       "      <td>1018.7</td>\n",
       "      <td>72.0</td>\n",
       "      <td>0.8</td>\n",
       "      <td>8.1</td>\n",
       "      <td>20.6</td>\n",
       "      <td>223.208333</td>\n",
       "    </tr>\n",
       "    <tr>\n",
       "      <th>4</th>\n",
       "      <td>12.4</td>\n",
       "      <td>20.9</td>\n",
       "      <td>4.4</td>\n",
       "      <td>1017.3</td>\n",
       "      <td>61.0</td>\n",
       "      <td>1.3</td>\n",
       "      <td>8.7</td>\n",
       "      <td>22.2</td>\n",
       "      <td>200.645833</td>\n",
       "    </tr>\n",
       "  </tbody>\n",
       "</table>\n",
       "</div>"
      ],
      "text/plain": [
       "      T    TM   Tm     SLP     H   VV    V    VM      PM 2.5\n",
       "0   7.4   9.8  4.8  1017.6  93.0  0.5  4.3   9.4  219.720833\n",
       "1   7.8  12.7  4.4  1018.5  87.0  0.6  4.4  11.1  182.187500\n",
       "2   6.7  13.4  2.4  1019.4  82.0  0.6  4.8  11.1  154.037500\n",
       "3   8.6  15.5  3.3  1018.7  72.0  0.8  8.1  20.6  223.208333\n",
       "4  12.4  20.9  4.4  1017.3  61.0  1.3  8.7  22.2  200.645833"
      ]
     },
     "execution_count": 3,
     "metadata": {},
     "output_type": "execute_result"
    }
   ],
   "source": [
    "df.head()"
   ]
  },
  {
   "cell_type": "code",
   "execution_count": 7,
   "id": "2694ceda",
   "metadata": {
    "scrolled": true
   },
   "outputs": [
    {
     "data": {
      "text/html": [
       "<div>\n",
       "<style scoped>\n",
       "    .dataframe tbody tr th:only-of-type {\n",
       "        vertical-align: middle;\n",
       "    }\n",
       "\n",
       "    .dataframe tbody tr th {\n",
       "        vertical-align: top;\n",
       "    }\n",
       "\n",
       "    .dataframe thead th {\n",
       "        text-align: right;\n",
       "    }\n",
       "</style>\n",
       "<table border=\"1\" class=\"dataframe\">\n",
       "  <thead>\n",
       "    <tr style=\"text-align: right;\">\n",
       "      <th></th>\n",
       "      <th>T</th>\n",
       "      <th>TM</th>\n",
       "      <th>Tm</th>\n",
       "      <th>SLP</th>\n",
       "      <th>H</th>\n",
       "      <th>VV</th>\n",
       "      <th>V</th>\n",
       "      <th>VM</th>\n",
       "      <th>PM 2.5</th>\n",
       "    </tr>\n",
       "  </thead>\n",
       "  <tbody>\n",
       "    <tr>\n",
       "      <th>184</th>\n",
       "      <td>14.3</td>\n",
       "      <td>19.2</td>\n",
       "      <td>10.9</td>\n",
       "      <td>1020.5</td>\n",
       "      <td>91.0</td>\n",
       "      <td>1.6</td>\n",
       "      <td>4.8</td>\n",
       "      <td>11.1</td>\n",
       "      <td>NaN</td>\n",
       "    </tr>\n",
       "  </tbody>\n",
       "</table>\n",
       "</div>"
      ],
      "text/plain": [
       "        T    TM    Tm     SLP     H   VV    V    VM  PM 2.5\n",
       "184  14.3  19.2  10.9  1020.5  91.0  1.6  4.8  11.1     NaN"
      ]
     },
     "execution_count": 7,
     "metadata": {},
     "output_type": "execute_result"
    }
   ],
   "source": [
    "#checking for missing values \n",
    "df[df['PM 2.5'].isna()]"
   ]
  },
  {
   "cell_type": "code",
   "execution_count": 9,
   "id": "64cbb257",
   "metadata": {},
   "outputs": [],
   "source": [
    "df.drop(index=184, inplace= True)"
   ]
  },
  {
   "cell_type": "code",
   "execution_count": 10,
   "id": "3769c6ff",
   "metadata": {},
   "outputs": [
    {
     "data": {
      "text/plain": [
       "T         0\n",
       "TM        0\n",
       "Tm        0\n",
       "SLP       0\n",
       "H         0\n",
       "VV        0\n",
       "V         0\n",
       "VM        0\n",
       "PM 2.5    0\n",
       "dtype: int64"
      ]
     },
     "execution_count": 10,
     "metadata": {},
     "output_type": "execute_result"
    }
   ],
   "source": [
    "df.isnull().sum()"
   ]
  },
  {
   "cell_type": "code",
   "execution_count": 14,
   "id": "9a71d9f4",
   "metadata": {},
   "outputs": [],
   "source": [
    "# setting up inputs(x) and targets(y)\n",
    "x = df.drop('PM 2.5', axis = 1)\n",
    "y = pd.DataFrame(df['PM 2.5'])"
   ]
  },
  {
   "cell_type": "code",
   "execution_count": 15,
   "id": "17eb95ea",
   "metadata": {},
   "outputs": [],
   "source": [
    "#building a sequential model as I have single input and single output\n",
    "model = keras.Sequential()"
   ]
  },
  {
   "cell_type": "code",
   "execution_count": 16,
   "id": "f28c57d1",
   "metadata": {},
   "outputs": [
    {
     "data": {
      "text/plain": [
       "(1092, 8)"
      ]
     },
     "execution_count": 16,
     "metadata": {},
     "output_type": "execute_result"
    }
   ],
   "source": [
    "x.shape"
   ]
  },
  {
   "cell_type": "code",
   "execution_count": 17,
   "id": "14f26913",
   "metadata": {},
   "outputs": [],
   "source": [
    "#adding layers and neurons to the ANN\n",
    "model.add(layers.Input(8))\n",
    "model.add(layers.Dense(10,'relu'))\n",
    "model.add(layers.Dense(10,'relu'))\n",
    "model.add(layers.Dense(1,'linear'))"
   ]
  },
  {
   "cell_type": "code",
   "execution_count": 18,
   "id": "77f8eccd",
   "metadata": {},
   "outputs": [],
   "source": [
    "#compiling the model with adam optimizer and meansquarederror loss\n",
    "model.compile(optimizer='adam',loss='mean_squared_error', metrics=['mean_squared_error'])"
   ]
  },
  {
   "cell_type": "code",
   "execution_count": 19,
   "id": "9b6627ef",
   "metadata": {},
   "outputs": [],
   "source": [
    "#spliting train and test data with traintestsplit\n",
    "from sklearn.model_selection import train_test_split\n",
    "xtrain,xtest,ytrain,ytest = train_test_split(x,y,test_size=0.6)"
   ]
  },
  {
   "cell_type": "code",
   "execution_count": 20,
   "id": "4dd0755c",
   "metadata": {},
   "outputs": [],
   "source": [
    "#normalizing the data \n",
    "from sklearn.preprocessing import MinMaxScaler\n",
    "sc = MinMaxScaler()\n",
    "Xtrain = sc.fit_transform(xtrain)\n",
    "Xtest = sc.transform(xtest)\n",
    "\n",
    "sc1 = MinMaxScaler()\n",
    "Ytrain = sc1.fit_transform(ytrain)\n",
    "Ytest = sc1.transform(ytest)"
   ]
  },
  {
   "cell_type": "code",
   "execution_count": 21,
   "id": "a0f02afd",
   "metadata": {},
   "outputs": [
    {
     "name": "stdout",
     "output_type": "stream",
     "text": [
      "Epoch 1/20\n",
      "14/14 [==============================] - 0s 2ms/step - loss: 0.1710 - mean_squared_error: 0.1710\n",
      "Epoch 2/20\n",
      "14/14 [==============================] - 0s 2ms/step - loss: 0.1055 - mean_squared_error: 0.1055\n",
      "Epoch 3/20\n",
      "14/14 [==============================] - 0s 2ms/step - loss: 0.0711 - mean_squared_error: 0.0711\n",
      "Epoch 4/20\n",
      "14/14 [==============================] - 0s 2ms/step - loss: 0.0507 - mean_squared_error: 0.0507\n",
      "Epoch 5/20\n",
      "14/14 [==============================] - 0s 2ms/step - loss: 0.0385 - mean_squared_error: 0.0385\n",
      "Epoch 6/20\n",
      "14/14 [==============================] - 0s 2ms/step - loss: 0.0313 - mean_squared_error: 0.0313\n",
      "Epoch 7/20\n",
      "14/14 [==============================] - 0s 2ms/step - loss: 0.0276 - mean_squared_error: 0.0276\n",
      "Epoch 8/20\n",
      "14/14 [==============================] - 0s 2ms/step - loss: 0.0245 - mean_squared_error: 0.0245\n",
      "Epoch 9/20\n",
      "14/14 [==============================] - 0s 2ms/step - loss: 0.0231 - mean_squared_error: 0.0231\n",
      "Epoch 10/20\n",
      "14/14 [==============================] - 0s 2ms/step - loss: 0.0225 - mean_squared_error: 0.0225\n",
      "Epoch 11/20\n",
      "14/14 [==============================] - 0s 2ms/step - loss: 0.0221 - mean_squared_error: 0.0221\n",
      "Epoch 12/20\n",
      "14/14 [==============================] - 0s 2ms/step - loss: 0.0220 - mean_squared_error: 0.0220\n",
      "Epoch 13/20\n",
      "14/14 [==============================] - 0s 2ms/step - loss: 0.0219 - mean_squared_error: 0.0219\n",
      "Epoch 14/20\n",
      "14/14 [==============================] - 0s 2ms/step - loss: 0.0217 - mean_squared_error: 0.0217\n",
      "Epoch 15/20\n",
      "14/14 [==============================] - 0s 2ms/step - loss: 0.0216 - mean_squared_error: 0.0216\n",
      "Epoch 16/20\n",
      "14/14 [==============================] - 0s 2ms/step - loss: 0.0215 - mean_squared_error: 0.0215\n",
      "Epoch 17/20\n",
      "14/14 [==============================] - 0s 2ms/step - loss: 0.0214 - mean_squared_error: 0.0214\n",
      "Epoch 18/20\n",
      "14/14 [==============================] - 0s 2ms/step - loss: 0.0213 - mean_squared_error: 0.0213\n",
      "Epoch 19/20\n",
      "14/14 [==============================] - 0s 2ms/step - loss: 0.0213 - mean_squared_error: 0.0213\n",
      "Epoch 20/20\n",
      "14/14 [==============================] - 0s 2ms/step - loss: 0.0212 - mean_squared_error: 0.0212\n"
     ]
    },
    {
     "data": {
      "text/plain": [
       "<keras.callbacks.History at 0x2683adc89d0>"
      ]
     },
     "execution_count": 21,
     "metadata": {},
     "output_type": "execute_result"
    }
   ],
   "source": [
    "model.fit(Xtrain,Ytrain, epochs= 20)"
   ]
  },
  {
   "cell_type": "code",
   "execution_count": 22,
   "id": "e80baa58",
   "metadata": {},
   "outputs": [
    {
     "name": "stdout",
     "output_type": "stream",
     "text": [
      "22/22 [==============================] - 0s 1ms/step - loss: 0.0225 - mean_squared_error: 0.0225\n"
     ]
    },
    {
     "data": {
      "text/plain": [
       "[0.022531956434249878, 0.022531956434249878]"
      ]
     },
     "execution_count": 22,
     "metadata": {},
     "output_type": "execute_result"
    }
   ],
   "source": [
    "model.evaluate(Xtest,Ytest, batch_size= 30)"
   ]
  },
  {
   "cell_type": "markdown",
   "id": "e1bf4c6e",
   "metadata": {},
   "source": [
    "##### Hyper parameter Tuning with Keras Tuner"
   ]
  },
  {
   "cell_type": "code",
   "execution_count": 23,
   "id": "a5035cd6",
   "metadata": {},
   "outputs": [],
   "source": [
    "from keras_tuner import RandomSearch"
   ]
  },
  {
   "cell_type": "code",
   "execution_count": 39,
   "id": "698a83b4",
   "metadata": {},
   "outputs": [],
   "source": [
    "def build_model(hp):\n",
    "    model_1 = keras.Sequential()\n",
    "    #tune number of layers\n",
    "    for i in range(hp.Int('layers',1,3)):\n",
    "        model_1.add(layers.Dense(\n",
    "            #tune number of units\n",
    "            hp.Int('units', min_value = 4, max_value = 100, step = 2),\n",
    "            activation='relu'\n",
    "        \n",
    "        )\n",
    "                   )\n",
    "    model_1.add(layers.Dense(1,'linear'))\n",
    "    #tune the learning rate\n",
    "    learning_rate = [1e-4,1e-2,1e-6]\n",
    "    model_1.compile(optimizer=tf.keras.optimizers.Adam(hp.Choice('learning_rate',learning_rate)),loss='mean_squared_error', metrics=['mean_squared_error'])\n",
    "    return model_1"
   ]
  },
  {
   "cell_type": "code",
   "execution_count": 44,
   "id": "a6ce5c54",
   "metadata": {},
   "outputs": [],
   "source": [
    "tuner = RandomSearch(\n",
    "    hypermodel=build_model,\n",
    "    objective='val_mean_squared_error',\n",
    "    max_trials=5\n",
    ")"
   ]
  },
  {
   "cell_type": "code",
   "execution_count": 45,
   "id": "c60680e8",
   "metadata": {},
   "outputs": [
    {
     "name": "stdout",
     "output_type": "stream",
     "text": [
      "Trial 5 Complete [00h 00m 01s]\n",
      "val_mean_squared_error: 0.018709233030676842\n",
      "\n",
      "Best val_mean_squared_error So Far: 0.018709233030676842\n",
      "Total elapsed time: 00h 00m 09s\n",
      "INFO:tensorflow:Oracle triggered exit\n"
     ]
    }
   ],
   "source": [
    "tuner.search(Xtrain, Ytrain, epochs=10, validation_data=(Xtest, Ytest))"
   ]
  },
  {
   "cell_type": "markdown",
   "id": "70a4b88f",
   "metadata": {},
   "source": [
    "#### with the help of hyper parameter tuning we reduced the meansquarederror and found best model"
   ]
  },
  {
   "cell_type": "code",
   "execution_count": 48,
   "id": "b70faa51",
   "metadata": {},
   "outputs": [],
   "source": [
    "best_model = tuner.get_best_models()[0]"
   ]
  },
  {
   "cell_type": "code",
   "execution_count": 49,
   "id": "c822e084",
   "metadata": {},
   "outputs": [
    {
     "name": "stdout",
     "output_type": "stream",
     "text": [
      "Epoch 1/20\n",
      "14/14 [==============================] - 1s 2ms/step - loss: 0.0187 - mean_squared_error: 0.0187\n",
      "Epoch 2/20\n",
      "14/14 [==============================] - 0s 2ms/step - loss: 0.0177 - mean_squared_error: 0.0177\n",
      "Epoch 3/20\n",
      "14/14 [==============================] - 0s 2ms/step - loss: 0.0187 - mean_squared_error: 0.0187\n",
      "Epoch 4/20\n",
      "14/14 [==============================] - 0s 2ms/step - loss: 0.0171 - mean_squared_error: 0.0171\n",
      "Epoch 5/20\n",
      "14/14 [==============================] - 0s 2ms/step - loss: 0.0163 - mean_squared_error: 0.0163\n",
      "Epoch 6/20\n",
      "14/14 [==============================] - 0s 2ms/step - loss: 0.0164 - mean_squared_error: 0.0164\n",
      "Epoch 7/20\n",
      "14/14 [==============================] - 0s 2ms/step - loss: 0.0174 - mean_squared_error: 0.0174\n",
      "Epoch 8/20\n",
      "14/14 [==============================] - 0s 2ms/step - loss: 0.0184 - mean_squared_error: 0.0184\n",
      "Epoch 9/20\n",
      "14/14 [==============================] - 0s 2ms/step - loss: 0.0169 - mean_squared_error: 0.0169\n",
      "Epoch 10/20\n",
      "14/14 [==============================] - 0s 2ms/step - loss: 0.0166 - mean_squared_error: 0.0166\n",
      "Epoch 11/20\n",
      "14/14 [==============================] - 0s 2ms/step - loss: 0.0161 - mean_squared_error: 0.0161\n",
      "Epoch 12/20\n",
      "14/14 [==============================] - 0s 2ms/step - loss: 0.0167 - mean_squared_error: 0.0167\n",
      "Epoch 13/20\n",
      "14/14 [==============================] - 0s 2ms/step - loss: 0.0162 - mean_squared_error: 0.0162\n",
      "Epoch 14/20\n",
      "14/14 [==============================] - 0s 2ms/step - loss: 0.0155 - mean_squared_error: 0.0155\n",
      "Epoch 15/20\n",
      "14/14 [==============================] - 0s 2ms/step - loss: 0.0159 - mean_squared_error: 0.0159\n",
      "Epoch 16/20\n",
      "14/14 [==============================] - 0s 2ms/step - loss: 0.0155 - mean_squared_error: 0.0155\n",
      "Epoch 17/20\n",
      "14/14 [==============================] - 0s 2ms/step - loss: 0.0158 - mean_squared_error: 0.0158\n",
      "Epoch 18/20\n",
      "14/14 [==============================] - 0s 2ms/step - loss: 0.0158 - mean_squared_error: 0.0158\n",
      "Epoch 19/20\n",
      "14/14 [==============================] - 0s 2ms/step - loss: 0.0162 - mean_squared_error: 0.0162\n",
      "Epoch 20/20\n",
      "14/14 [==============================] - 0s 2ms/step - loss: 0.0144 - mean_squared_error: 0.0144\n"
     ]
    },
    {
     "data": {
      "text/plain": [
       "<keras.callbacks.History at 0x268390b72e0>"
      ]
     },
     "execution_count": 49,
     "metadata": {},
     "output_type": "execute_result"
    }
   ],
   "source": [
    "best_model.fit(Xtrain,Ytrain, epochs= 20)"
   ]
  },
  {
   "cell_type": "code",
   "execution_count": 50,
   "id": "57bc83af",
   "metadata": {
    "scrolled": true
   },
   "outputs": [
    {
     "name": "stdout",
     "output_type": "stream",
     "text": [
      "22/22 [==============================] - 0s 1ms/step - loss: 0.0163 - mean_squared_error: 0.0163\n"
     ]
    },
    {
     "data": {
      "text/plain": [
       "[0.016283830627799034, 0.016283830627799034]"
      ]
     },
     "execution_count": 50,
     "metadata": {},
     "output_type": "execute_result"
    }
   ],
   "source": [
    "best_model.evaluate(Xtest,Ytest, batch_size= 30)"
   ]
  },
  {
   "cell_type": "code",
   "execution_count": 52,
   "id": "54342971",
   "metadata": {},
   "outputs": [],
   "source": [
    "predictions = best_model.predict(Xtest, batch_size = 30)"
   ]
  },
  {
   "cell_type": "code",
   "execution_count": 53,
   "id": "c3b8d2e1",
   "metadata": {},
   "outputs": [],
   "source": [
    "#using inverse transform on predictions to see the actual predicted values\n",
    "predictions_inverse = sc1.inverse_transform(predictions)"
   ]
  },
  {
   "cell_type": "code",
   "execution_count": 55,
   "id": "aa4fd1dc",
   "metadata": {},
   "outputs": [],
   "source": [
    "Actual = Ytest"
   ]
  },
  {
   "cell_type": "code",
   "execution_count": 56,
   "id": "9ec064bd",
   "metadata": {},
   "outputs": [],
   "source": [
    "Actual_inverse = sc1.inverse_transform(Actual)"
   ]
  },
  {
   "cell_type": "code",
   "execution_count": 69,
   "id": "45a5dfae",
   "metadata": {},
   "outputs": [],
   "source": [
    "final_result = pd.DataFrame(predictions_inverse)\n",
    "final_result.rename(columns={0: 'Predictions'}, inplace = True)"
   ]
  },
  {
   "cell_type": "code",
   "execution_count": 71,
   "id": "fff16c64",
   "metadata": {},
   "outputs": [],
   "source": [
    "final_result['Actual'] = Actual_inverse"
   ]
  },
  {
   "cell_type": "code",
   "execution_count": 72,
   "id": "013995ec",
   "metadata": {},
   "outputs": [
    {
     "data": {
      "text/html": [
       "<div>\n",
       "<style scoped>\n",
       "    .dataframe tbody tr th:only-of-type {\n",
       "        vertical-align: middle;\n",
       "    }\n",
       "\n",
       "    .dataframe tbody tr th {\n",
       "        vertical-align: top;\n",
       "    }\n",
       "\n",
       "    .dataframe thead th {\n",
       "        text-align: right;\n",
       "    }\n",
       "</style>\n",
       "<table border=\"1\" class=\"dataframe\">\n",
       "  <thead>\n",
       "    <tr style=\"text-align: right;\">\n",
       "      <th></th>\n",
       "      <th>Predictions</th>\n",
       "      <th>Actual</th>\n",
       "    </tr>\n",
       "  </thead>\n",
       "  <tbody>\n",
       "    <tr>\n",
       "      <th>0</th>\n",
       "      <td>91.770668</td>\n",
       "      <td>122.708333</td>\n",
       "    </tr>\n",
       "    <tr>\n",
       "      <th>1</th>\n",
       "      <td>96.091408</td>\n",
       "      <td>89.375000</td>\n",
       "    </tr>\n",
       "    <tr>\n",
       "      <th>2</th>\n",
       "      <td>49.178345</td>\n",
       "      <td>71.666667</td>\n",
       "    </tr>\n",
       "    <tr>\n",
       "      <th>3</th>\n",
       "      <td>229.247955</td>\n",
       "      <td>219.720833</td>\n",
       "    </tr>\n",
       "    <tr>\n",
       "      <th>4</th>\n",
       "      <td>81.905151</td>\n",
       "      <td>105.333333</td>\n",
       "    </tr>\n",
       "  </tbody>\n",
       "</table>\n",
       "</div>"
      ],
      "text/plain": [
       "   Predictions      Actual\n",
       "0    91.770668  122.708333\n",
       "1    96.091408   89.375000\n",
       "2    49.178345   71.666667\n",
       "3   229.247955  219.720833\n",
       "4    81.905151  105.333333"
      ]
     },
     "execution_count": 72,
     "metadata": {},
     "output_type": "execute_result"
    }
   ],
   "source": [
    "final_result.head()"
   ]
  },
  {
   "cell_type": "code",
   "execution_count": null,
   "id": "3042f8ab",
   "metadata": {},
   "outputs": [],
   "source": []
  }
 ],
 "metadata": {
  "kernelspec": {
   "display_name": "Python 3 (ipykernel)",
   "language": "python",
   "name": "python3"
  },
  "language_info": {
   "codemirror_mode": {
    "name": "ipython",
    "version": 3
   },
   "file_extension": ".py",
   "mimetype": "text/x-python",
   "name": "python",
   "nbconvert_exporter": "python",
   "pygments_lexer": "ipython3",
   "version": "3.9.7"
  }
 },
 "nbformat": 4,
 "nbformat_minor": 5
}
