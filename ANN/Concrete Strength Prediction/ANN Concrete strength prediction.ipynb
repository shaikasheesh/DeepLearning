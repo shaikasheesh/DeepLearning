{
 "cells": [
  {
   "cell_type": "code",
   "execution_count": 2,
   "id": "fd941abc",
   "metadata": {},
   "outputs": [],
   "source": [
    "import pandas as pd \n",
    "import keras\n",
    "from keras import layers\n",
    "from keras.layers import Dense"
   ]
  },
  {
   "cell_type": "code",
   "execution_count": 4,
   "id": "e7ffb30f",
   "metadata": {},
   "outputs": [],
   "source": [
    "df = pd.read_csv('concrete_data.csv')"
   ]
  },
  {
   "cell_type": "code",
   "execution_count": 5,
   "id": "8f42b191",
   "metadata": {},
   "outputs": [
    {
     "data": {
      "text/html": [
       "<div>\n",
       "<style scoped>\n",
       "    .dataframe tbody tr th:only-of-type {\n",
       "        vertical-align: middle;\n",
       "    }\n",
       "\n",
       "    .dataframe tbody tr th {\n",
       "        vertical-align: top;\n",
       "    }\n",
       "\n",
       "    .dataframe thead th {\n",
       "        text-align: right;\n",
       "    }\n",
       "</style>\n",
       "<table border=\"1\" class=\"dataframe\">\n",
       "  <thead>\n",
       "    <tr style=\"text-align: right;\">\n",
       "      <th></th>\n",
       "      <th>Cement</th>\n",
       "      <th>Blast Furnace Slag</th>\n",
       "      <th>Fly Ash</th>\n",
       "      <th>Water</th>\n",
       "      <th>Superplasticizer</th>\n",
       "      <th>Coarse Aggregate</th>\n",
       "      <th>Fine Aggregate</th>\n",
       "      <th>Age</th>\n",
       "      <th>Strength</th>\n",
       "    </tr>\n",
       "  </thead>\n",
       "  <tbody>\n",
       "    <tr>\n",
       "      <th>0</th>\n",
       "      <td>540.0</td>\n",
       "      <td>0.0</td>\n",
       "      <td>0.0</td>\n",
       "      <td>162.0</td>\n",
       "      <td>2.5</td>\n",
       "      <td>1040.0</td>\n",
       "      <td>676.0</td>\n",
       "      <td>28</td>\n",
       "      <td>79.99</td>\n",
       "    </tr>\n",
       "    <tr>\n",
       "      <th>1</th>\n",
       "      <td>540.0</td>\n",
       "      <td>0.0</td>\n",
       "      <td>0.0</td>\n",
       "      <td>162.0</td>\n",
       "      <td>2.5</td>\n",
       "      <td>1055.0</td>\n",
       "      <td>676.0</td>\n",
       "      <td>28</td>\n",
       "      <td>61.89</td>\n",
       "    </tr>\n",
       "    <tr>\n",
       "      <th>2</th>\n",
       "      <td>332.5</td>\n",
       "      <td>142.5</td>\n",
       "      <td>0.0</td>\n",
       "      <td>228.0</td>\n",
       "      <td>0.0</td>\n",
       "      <td>932.0</td>\n",
       "      <td>594.0</td>\n",
       "      <td>270</td>\n",
       "      <td>40.27</td>\n",
       "    </tr>\n",
       "    <tr>\n",
       "      <th>3</th>\n",
       "      <td>332.5</td>\n",
       "      <td>142.5</td>\n",
       "      <td>0.0</td>\n",
       "      <td>228.0</td>\n",
       "      <td>0.0</td>\n",
       "      <td>932.0</td>\n",
       "      <td>594.0</td>\n",
       "      <td>365</td>\n",
       "      <td>41.05</td>\n",
       "    </tr>\n",
       "    <tr>\n",
       "      <th>4</th>\n",
       "      <td>198.6</td>\n",
       "      <td>132.4</td>\n",
       "      <td>0.0</td>\n",
       "      <td>192.0</td>\n",
       "      <td>0.0</td>\n",
       "      <td>978.4</td>\n",
       "      <td>825.5</td>\n",
       "      <td>360</td>\n",
       "      <td>44.30</td>\n",
       "    </tr>\n",
       "  </tbody>\n",
       "</table>\n",
       "</div>"
      ],
      "text/plain": [
       "   Cement  Blast Furnace Slag  Fly Ash  Water  Superplasticizer  Coarse Aggregate  Fine Aggregate  Age  Strength\n",
       "0   540.0                 0.0      0.0  162.0               2.5            1040.0           676.0   28     79.99\n",
       "1   540.0                 0.0      0.0  162.0               2.5            1055.0           676.0   28     61.89\n",
       "2   332.5               142.5      0.0  228.0               0.0             932.0           594.0  270     40.27\n",
       "3   332.5               142.5      0.0  228.0               0.0             932.0           594.0  365     41.05\n",
       "4   198.6               132.4      0.0  192.0               0.0             978.4           825.5  360     44.30"
      ]
     },
     "execution_count": 5,
     "metadata": {},
     "output_type": "execute_result"
    }
   ],
   "source": [
    "df.head()"
   ]
  },
  {
   "cell_type": "code",
   "execution_count": 9,
   "id": "39ad54a8",
   "metadata": {},
   "outputs": [
    {
     "data": {
      "text/plain": [
       "(1030, 8)"
      ]
     },
     "execution_count": 9,
     "metadata": {},
     "output_type": "execute_result"
    }
   ],
   "source": [
    "inputs = df.drop('Strength', axis =1 )\n",
    "inputs.shape"
   ]
  },
  {
   "cell_type": "code",
   "execution_count": 7,
   "id": "3ed366fd",
   "metadata": {},
   "outputs": [],
   "source": [
    "target = df['Strength']"
   ]
  },
  {
   "cell_type": "code",
   "execution_count": 70,
   "id": "0ca49031",
   "metadata": {},
   "outputs": [],
   "source": [
    "reg = keras.Sequential()"
   ]
  },
  {
   "cell_type": "code",
   "execution_count": 71,
   "id": "ae206441",
   "metadata": {},
   "outputs": [],
   "source": [
    "reg.add(layers.Input(8))"
   ]
  },
  {
   "cell_type": "code",
   "execution_count": 72,
   "id": "284ff03a",
   "metadata": {},
   "outputs": [],
   "source": [
    "reg.add(layers.Dense(50, activation='relu'))\n",
    "reg.add(layers.Dense(1, 'relu'))"
   ]
  },
  {
   "cell_type": "code",
   "execution_count": 73,
   "id": "0894be8d",
   "metadata": {},
   "outputs": [
    {
     "name": "stdout",
     "output_type": "stream",
     "text": [
      "Model: \"sequential_6\"\n",
      "_________________________________________________________________\n",
      " Layer (type)                Output Shape              Param #   \n",
      "=================================================================\n",
      " dense_16 (Dense)            (None, 50)                450       \n",
      "                                                                 \n",
      " dense_17 (Dense)            (None, 1)                 51        \n",
      "                                                                 \n",
      "=================================================================\n",
      "Total params: 501\n",
      "Trainable params: 501\n",
      "Non-trainable params: 0\n",
      "_________________________________________________________________\n"
     ]
    }
   ],
   "source": [
    "reg.summary()"
   ]
  },
  {
   "cell_type": "code",
   "execution_count": 80,
   "id": "7eff01e8",
   "metadata": {},
   "outputs": [],
   "source": [
    "reg.compile(optimizer = 'adam', loss = 'mean_absolute_error')"
   ]
  },
  {
   "cell_type": "code",
   "execution_count": 81,
   "id": "bbb0fb9e",
   "metadata": {},
   "outputs": [],
   "source": [
    "from sklearn.model_selection import train_test_split\n",
    "xtrain,xtest,ytrain,ytest = train_test_split(inputs,target, test_size= 0.6)"
   ]
  },
  {
   "cell_type": "code",
   "execution_count": 82,
   "id": "5eeec9ee",
   "metadata": {
    "scrolled": true
   },
   "outputs": [
    {
     "name": "stdout",
     "output_type": "stream",
     "text": [
      "Epoch 1/100\n",
      "13/13 [==============================] - 0s 12ms/step - loss: 8.3888 - val_loss: 8.1624\n",
      "Epoch 2/100\n",
      "13/13 [==============================] - 0s 4ms/step - loss: 6.4048 - val_loss: 6.3814\n",
      "Epoch 3/100\n",
      "13/13 [==============================] - 0s 4ms/step - loss: 5.9214 - val_loss: 6.3212\n",
      "Epoch 4/100\n",
      "13/13 [==============================] - 0s 4ms/step - loss: 6.2742 - val_loss: 6.7000\n",
      "Epoch 5/100\n",
      "13/13 [==============================] - 0s 4ms/step - loss: 5.8212 - val_loss: 6.5091\n",
      "Epoch 6/100\n",
      "13/13 [==============================] - 0s 4ms/step - loss: 5.9040 - val_loss: 6.5341\n",
      "Epoch 7/100\n",
      "13/13 [==============================] - 0s 5ms/step - loss: 6.0261 - val_loss: 6.2634\n",
      "Epoch 8/100\n",
      "13/13 [==============================] - 0s 4ms/step - loss: 6.2028 - val_loss: 6.4177\n",
      "Epoch 9/100\n",
      "13/13 [==============================] - 0s 6ms/step - loss: 6.1381 - val_loss: 7.5983\n",
      "Epoch 10/100\n",
      "13/13 [==============================] - 0s 5ms/step - loss: 6.2183 - val_loss: 6.2218\n",
      "Epoch 11/100\n",
      "13/13 [==============================] - 0s 6ms/step - loss: 5.9993 - val_loss: 6.5868\n",
      "Epoch 12/100\n",
      "13/13 [==============================] - 0s 4ms/step - loss: 5.8702 - val_loss: 6.2050\n",
      "Epoch 13/100\n",
      "13/13 [==============================] - 0s 4ms/step - loss: 5.9776 - val_loss: 6.1390\n",
      "Epoch 14/100\n",
      "13/13 [==============================] - 0s 4ms/step - loss: 6.0605 - val_loss: 6.7888\n",
      "Epoch 15/100\n",
      "13/13 [==============================] - 0s 5ms/step - loss: 6.5401 - val_loss: 6.3159\n",
      "Epoch 16/100\n",
      "13/13 [==============================] - 0s 4ms/step - loss: 5.7220 - val_loss: 6.1874\n",
      "Epoch 17/100\n",
      "13/13 [==============================] - 0s 3ms/step - loss: 5.7592 - val_loss: 6.2420\n",
      "Epoch 18/100\n",
      "13/13 [==============================] - 0s 5ms/step - loss: 5.6975 - val_loss: 6.3547\n",
      "Epoch 19/100\n",
      "13/13 [==============================] - 0s 4ms/step - loss: 5.8551 - val_loss: 6.0709\n",
      "Epoch 20/100\n",
      "13/13 [==============================] - 0s 5ms/step - loss: 5.8584 - val_loss: 6.0795\n",
      "Epoch 21/100\n",
      "13/13 [==============================] - 0s 5ms/step - loss: 5.7740 - val_loss: 6.1346\n",
      "Epoch 22/100\n",
      "13/13 [==============================] - 0s 4ms/step - loss: 5.8863 - val_loss: 6.0784\n",
      "Epoch 23/100\n",
      "13/13 [==============================] - 0s 4ms/step - loss: 5.6690 - val_loss: 6.0302\n",
      "Epoch 24/100\n",
      "13/13 [==============================] - 0s 4ms/step - loss: 5.7472 - val_loss: 6.4093\n",
      "Epoch 25/100\n",
      "13/13 [==============================] - 0s 5ms/step - loss: 6.0977 - val_loss: 6.3661\n",
      "Epoch 26/100\n",
      "13/13 [==============================] - 0s 5ms/step - loss: 5.9773 - val_loss: 6.3844\n",
      "Epoch 27/100\n",
      "13/13 [==============================] - 0s 4ms/step - loss: 5.9178 - val_loss: 6.1558\n",
      "Epoch 28/100\n",
      "13/13 [==============================] - 0s 4ms/step - loss: 6.7836 - val_loss: 8.8960\n",
      "Epoch 29/100\n",
      "13/13 [==============================] - 0s 5ms/step - loss: 7.8844 - val_loss: 6.6886\n",
      "Epoch 30/100\n",
      "13/13 [==============================] - 0s 5ms/step - loss: 6.6980 - val_loss: 6.4679\n",
      "Epoch 31/100\n",
      "13/13 [==============================] - 0s 5ms/step - loss: 6.1492 - val_loss: 6.1801\n",
      "Epoch 32/100\n",
      "13/13 [==============================] - 0s 5ms/step - loss: 6.0076 - val_loss: 6.1010\n",
      "Epoch 33/100\n",
      "13/13 [==============================] - 0s 4ms/step - loss: 5.7695 - val_loss: 6.0653\n",
      "Epoch 34/100\n",
      "13/13 [==============================] - 0s 5ms/step - loss: 5.8584 - val_loss: 6.0654\n",
      "Epoch 35/100\n",
      "13/13 [==============================] - 0s 5ms/step - loss: 5.7380 - val_loss: 6.0764\n",
      "Epoch 36/100\n",
      "13/13 [==============================] - 0s 5ms/step - loss: 5.8471 - val_loss: 6.3025\n",
      "Epoch 37/100\n",
      "13/13 [==============================] - 0s 5ms/step - loss: 6.4156 - val_loss: 6.4367\n",
      "Epoch 38/100\n",
      "13/13 [==============================] - 0s 5ms/step - loss: 6.5252 - val_loss: 8.2155\n",
      "Epoch 39/100\n",
      "13/13 [==============================] - 0s 5ms/step - loss: 7.2540 - val_loss: 6.7197\n",
      "Epoch 40/100\n",
      "13/13 [==============================] - 0s 5ms/step - loss: 7.1971 - val_loss: 6.2359\n",
      "Epoch 41/100\n",
      "13/13 [==============================] - 0s 5ms/step - loss: 7.3340 - val_loss: 6.3006\n",
      "Epoch 42/100\n",
      "13/13 [==============================] - 0s 5ms/step - loss: 6.1613 - val_loss: 7.0752\n",
      "Epoch 43/100\n",
      "13/13 [==============================] - 0s 5ms/step - loss: 6.1323 - val_loss: 6.3947\n",
      "Epoch 44/100\n",
      "13/13 [==============================] - 0s 5ms/step - loss: 5.6313 - val_loss: 6.0626\n",
      "Epoch 45/100\n",
      "13/13 [==============================] - 0s 5ms/step - loss: 5.5719 - val_loss: 6.2944\n",
      "Epoch 46/100\n",
      "13/13 [==============================] - 0s 5ms/step - loss: 5.5470 - val_loss: 6.2258\n",
      "Epoch 47/100\n",
      "13/13 [==============================] - 0s 5ms/step - loss: 5.7148 - val_loss: 5.9956\n",
      "Epoch 48/100\n",
      "13/13 [==============================] - 0s 4ms/step - loss: 6.0162 - val_loss: 6.2639\n",
      "Epoch 49/100\n",
      "13/13 [==============================] - 0s 5ms/step - loss: 5.7874 - val_loss: 6.0106\n",
      "Epoch 50/100\n",
      "13/13 [==============================] - 0s 5ms/step - loss: 5.9352 - val_loss: 6.7428\n",
      "Epoch 51/100\n",
      "13/13 [==============================] - 0s 5ms/step - loss: 5.6642 - val_loss: 5.9694\n",
      "Epoch 52/100\n",
      "13/13 [==============================] - 0s 5ms/step - loss: 5.7972 - val_loss: 6.3349\n",
      "Epoch 53/100\n",
      "13/13 [==============================] - 0s 4ms/step - loss: 5.9629 - val_loss: 6.0358\n",
      "Epoch 54/100\n",
      "13/13 [==============================] - 0s 5ms/step - loss: 5.9321 - val_loss: 6.4215\n",
      "Epoch 55/100\n",
      "13/13 [==============================] - 0s 5ms/step - loss: 5.9126 - val_loss: 5.9399\n",
      "Epoch 56/100\n",
      "13/13 [==============================] - 0s 5ms/step - loss: 5.6340 - val_loss: 6.5976\n",
      "Epoch 57/100\n",
      "13/13 [==============================] - 0s 5ms/step - loss: 5.6592 - val_loss: 6.3811\n",
      "Epoch 58/100\n",
      "13/13 [==============================] - 0s 6ms/step - loss: 5.5700 - val_loss: 5.9554\n",
      "Epoch 59/100\n",
      "13/13 [==============================] - 0s 5ms/step - loss: 5.5223 - val_loss: 6.0722\n",
      "Epoch 60/100\n",
      "13/13 [==============================] - 0s 5ms/step - loss: 5.6856 - val_loss: 6.1930\n",
      "Epoch 61/100\n",
      "13/13 [==============================] - 0s 6ms/step - loss: 5.5373 - val_loss: 6.0190\n",
      "Epoch 62/100\n",
      "13/13 [==============================] - 0s 5ms/step - loss: 5.5696 - val_loss: 6.0181\n",
      "Epoch 63/100\n",
      "13/13 [==============================] - 0s 4ms/step - loss: 5.4600 - val_loss: 6.5327\n",
      "Epoch 64/100\n",
      "13/13 [==============================] - 0s 5ms/step - loss: 5.6499 - val_loss: 6.2027\n",
      "Epoch 65/100\n",
      "13/13 [==============================] - 0s 5ms/step - loss: 5.6757 - val_loss: 5.9665\n",
      "Epoch 66/100\n",
      "13/13 [==============================] - 0s 5ms/step - loss: 5.4757 - val_loss: 6.0384\n",
      "Epoch 67/100\n",
      "13/13 [==============================] - 0s 5ms/step - loss: 5.6544 - val_loss: 6.7378\n",
      "Epoch 68/100\n",
      "13/13 [==============================] - 0s 4ms/step - loss: 5.7267 - val_loss: 7.0771\n",
      "Epoch 69/100\n",
      "13/13 [==============================] - 0s 5ms/step - loss: 6.5117 - val_loss: 8.8388\n",
      "Epoch 70/100\n",
      "13/13 [==============================] - 0s 5ms/step - loss: 5.9275 - val_loss: 6.0079\n",
      "Epoch 71/100\n",
      "13/13 [==============================] - 0s 5ms/step - loss: 5.4662 - val_loss: 6.0000\n",
      "Epoch 72/100\n",
      "13/13 [==============================] - 0s 5ms/step - loss: 5.6550 - val_loss: 6.0415\n",
      "Epoch 73/100\n",
      "13/13 [==============================] - 0s 5ms/step - loss: 5.5739 - val_loss: 5.9477\n",
      "Epoch 74/100\n",
      "13/13 [==============================] - 0s 5ms/step - loss: 6.2928 - val_loss: 7.3819\n",
      "Epoch 75/100\n",
      "13/13 [==============================] - 0s 5ms/step - loss: 5.9971 - val_loss: 6.1780\n",
      "Epoch 76/100\n",
      "13/13 [==============================] - 0s 6ms/step - loss: 5.8358 - val_loss: 6.2145\n",
      "Epoch 77/100\n",
      "13/13 [==============================] - 0s 5ms/step - loss: 5.8970 - val_loss: 5.9515\n",
      "Epoch 78/100\n",
      "13/13 [==============================] - 0s 5ms/step - loss: 5.5242 - val_loss: 6.2648\n",
      "Epoch 79/100\n",
      "13/13 [==============================] - 0s 4ms/step - loss: 5.6413 - val_loss: 6.0119\n",
      "Epoch 80/100\n",
      "13/13 [==============================] - 0s 4ms/step - loss: 5.7759 - val_loss: 5.8793\n",
      "Epoch 81/100\n",
      "13/13 [==============================] - 0s 4ms/step - loss: 5.7248 - val_loss: 6.0046\n",
      "Epoch 82/100\n",
      "13/13 [==============================] - 0s 4ms/step - loss: 5.6117 - val_loss: 6.4746\n",
      "Epoch 83/100\n"
     ]
    },
    {
     "name": "stdout",
     "output_type": "stream",
     "text": [
      "13/13 [==============================] - 0s 4ms/step - loss: 5.6567 - val_loss: 6.2864\n",
      "Epoch 84/100\n",
      "13/13 [==============================] - 0s 4ms/step - loss: 5.4491 - val_loss: 6.0013\n",
      "Epoch 85/100\n",
      "13/13 [==============================] - 0s 4ms/step - loss: 5.5844 - val_loss: 5.8283\n",
      "Epoch 86/100\n",
      "13/13 [==============================] - 0s 4ms/step - loss: 5.7173 - val_loss: 5.9284\n",
      "Epoch 87/100\n",
      "13/13 [==============================] - 0s 4ms/step - loss: 5.4884 - val_loss: 6.0415\n",
      "Epoch 88/100\n",
      "13/13 [==============================] - 0s 5ms/step - loss: 5.4943 - val_loss: 5.8978\n",
      "Epoch 89/100\n",
      "13/13 [==============================] - 0s 5ms/step - loss: 5.5313 - val_loss: 6.0751\n",
      "Epoch 90/100\n",
      "13/13 [==============================] - 0s 4ms/step - loss: 5.8744 - val_loss: 7.1058\n",
      "Epoch 91/100\n",
      "13/13 [==============================] - 0s 5ms/step - loss: 6.1027 - val_loss: 6.9552\n",
      "Epoch 92/100\n",
      "13/13 [==============================] - 0s 5ms/step - loss: 5.7923 - val_loss: 5.9235\n",
      "Epoch 93/100\n",
      "13/13 [==============================] - 0s 5ms/step - loss: 5.5498 - val_loss: 5.8227\n",
      "Epoch 94/100\n",
      "13/13 [==============================] - 0s 5ms/step - loss: 5.7342 - val_loss: 7.0885\n",
      "Epoch 95/100\n",
      "13/13 [==============================] - 0s 5ms/step - loss: 5.6979 - val_loss: 5.8913\n",
      "Epoch 96/100\n",
      "13/13 [==============================] - 0s 5ms/step - loss: 6.0156 - val_loss: 8.7491\n",
      "Epoch 97/100\n",
      "13/13 [==============================] - 0s 5ms/step - loss: 7.2977 - val_loss: 6.7214\n",
      "Epoch 98/100\n",
      "13/13 [==============================] - 0s 5ms/step - loss: 5.9727 - val_loss: 7.8456\n",
      "Epoch 99/100\n",
      "13/13 [==============================] - 0s 4ms/step - loss: 6.0077 - val_loss: 7.0068\n",
      "Epoch 100/100\n",
      "13/13 [==============================] - 0s 4ms/step - loss: 6.2018 - val_loss: 6.3394\n"
     ]
    },
    {
     "data": {
      "text/plain": [
       "<keras.callbacks.History at 0x15e93300b50>"
      ]
     },
     "execution_count": 82,
     "metadata": {},
     "output_type": "execute_result"
    }
   ],
   "source": [
    "reg.fit(xtrain,ytrain, validation_data=(xtest,ytest),epochs=100)"
   ]
  },
  {
   "cell_type": "code",
   "execution_count": 62,
   "id": "c68e2ff6",
   "metadata": {},
   "outputs": [
    {
     "data": {
      "text/plain": [
       "(1030, 8)"
      ]
     },
     "execution_count": 62,
     "metadata": {},
     "output_type": "execute_result"
    }
   ],
   "source": [
    "inputs.shape"
   ]
  },
  {
   "cell_type": "code",
   "execution_count": 63,
   "id": "4d57fef8",
   "metadata": {},
   "outputs": [
    {
     "data": {
      "text/plain": [
       "(1030,)"
      ]
     },
     "execution_count": 63,
     "metadata": {},
     "output_type": "execute_result"
    }
   ],
   "source": [
    "target.shape"
   ]
  },
  {
   "cell_type": "code",
   "execution_count": null,
   "id": "fdcafbd2",
   "metadata": {},
   "outputs": [],
   "source": []
  }
 ],
 "metadata": {
  "kernelspec": {
   "display_name": "Python 3 (ipykernel)",
   "language": "python",
   "name": "python3"
  },
  "language_info": {
   "codemirror_mode": {
    "name": "ipython",
    "version": 3
   },
   "file_extension": ".py",
   "mimetype": "text/x-python",
   "name": "python",
   "nbconvert_exporter": "python",
   "pygments_lexer": "ipython3",
   "version": "3.9.7"
  }
 },
 "nbformat": 4,
 "nbformat_minor": 5
}
